{
  "nbformat": 4,
  "nbformat_minor": 0,
  "metadata": {
    "colab": {
      "name": "Copy of Noisy_CNN_MNIST.ipynb",
      "provenance": [],
      "collapsed_sections": [],
      "machine_shape": "hm"
    },
    "kernelspec": {
      "name": "python3",
      "display_name": "Python 3"
    },
    "language_info": {
      "name": "python"
    },
    "accelerator": "GPU"
  },
  "cells": [
    {
      "cell_type": "code",
      "source": [
        "pip install visualkeras #Visualize the CNN model library"
      ],
      "metadata": {
        "id": "BEgHsSGFK6MD",
        "colab": {
          "base_uri": "https://localhost:8080/"
        },
        "outputId": "443006fd-b31b-4808-f014-c517f50a202c"
      },
      "execution_count": 1,
      "outputs": [
        {
          "output_type": "stream",
          "name": "stdout",
          "text": [
            "Looking in indexes: https://pypi.org/simple, https://us-python.pkg.dev/colab-wheels/public/simple/\n",
            "Collecting visualkeras\n",
            "  Downloading visualkeras-0.0.2-py3-none-any.whl (12 kB)\n",
            "Requirement already satisfied: numpy>=1.18.1 in /usr/local/lib/python3.7/dist-packages (from visualkeras) (1.21.6)\n",
            "Collecting aggdraw>=1.3.11\n",
            "  Downloading aggdraw-1.3.14-cp37-cp37m-manylinux_2_17_x86_64.manylinux2014_x86_64.whl (992 kB)\n",
            "\u001b[K     |████████████████████████████████| 992 kB 5.2 MB/s \n",
            "\u001b[?25hRequirement already satisfied: pillow>=6.2.0 in /usr/local/lib/python3.7/dist-packages (from visualkeras) (7.1.2)\n",
            "Installing collected packages: aggdraw, visualkeras\n",
            "Successfully installed aggdraw-1.3.14 visualkeras-0.0.2\n"
          ]
        }
      ]
    },
    {
      "cell_type": "code",
      "metadata": {
        "id": "Ocucbj-wcpvR"
      },
      "source": [
        "import pandas as pd\n",
        "import numpy as np\n",
        "\n",
        "\n",
        "import matplotlib.pyplot as plt\n",
        "import seaborn as sns\n",
        "import tensorflow as tf\n",
        "\n",
        "from sklearn.model_selection import train_test_split\n",
        "from sklearn.metrics import confusion_matrix\n",
        "\n",
        "from keras.models import Sequential\n",
        "from keras.layers import Conv2D, Lambda, MaxPooling2D # convolution layers\n",
        "from keras.layers import Dense, Dropout, Flatten # core layers\n",
        "from tensorflow import keras\n",
        "#from keras.layers.normalization import BatchNormalization\n",
        "\n",
        "from keras.preprocessing.image import ImageDataGenerator\n",
        "\n",
        "from keras.utils.np_utils import to_categorical\n",
        "\n",
        "from tensorflow.keras.datasets import mnist\n",
        "\n"
      ],
      "execution_count": 2,
      "outputs": []
    },
    {
      "cell_type": "code",
      "metadata": {
        "id": "nH8sqF4OcsNg",
        "colab": {
          "base_uri": "https://localhost:8080/"
        },
        "outputId": "ba434d89-6bd0-4813-f5ac-3f334722b681"
      },
      "source": [
        "num_classes = 10\n",
        "# Load MNIST Dataset\n",
        "(x_train, y_train), (x_test, y_test) = mnist.load_data() #Loading the MNIST dataset into train and test classes\n",
        "\n",
        "# Process images into input vectors\n",
        "# each mnist image is a 28x28 picture with value ranges between 0 and 255\n",
        "x_train = x_train.astype(np.float32) / 255.\n",
        "x_train = x_train.reshape(-1, 28,28,1)\n",
        "x_test = x_test.astype(np.float32) / 255.\n",
        "x_test = x_test.reshape(-1, 28,28,1)\n",
        "\n",
        "# converts [1,2] into [[0,1,0], [0,0,1]]\n",
        "y_train = to_categorical(y_train, num_classes).astype(np.float32)\n",
        "y_test = to_categorical(y_test, num_classes).astype(np.float32)\n",
        "\n",
        "#Noisy data\n",
        "start = 0 #Index start at which noise data is present in the training set, tune to your own interest\n",
        "end = 60000 #Index at which noise data finished, tune to your own interest\n",
        "noise_factor_train = 0.75 #Noise intensity scale from 0-1 for training set\n",
        "noise_factor_test = 0.75 #Noise intensity scale from 0-1 for testing set\n",
        "x_train[start:end]= x_train[start:end]+ noise_factor_train * np.random.normal(loc=0.0, scale=1.0, size=x_train[start:end].shape) \n",
        "x_test_noisy = x_test + noise_factor_test * np.random.normal(loc=0.0, scale=1.0, size=x_test.shape) \n",
        "x_train[start:end] = np.clip(x_train[start:end], 0., 1.)\n",
        "x_test_noisy = np.clip(x_test_noisy, 0., 1.)\n"
      ],
      "execution_count": 3,
      "outputs": [
        {
          "output_type": "stream",
          "name": "stdout",
          "text": [
            "Downloading data from https://storage.googleapis.com/tensorflow/tf-keras-datasets/mnist.npz\n",
            "11493376/11490434 [==============================] - 0s 0us/step\n",
            "11501568/11490434 [==============================] - 0s 0us/step\n"
          ]
        }
      ]
    },
    {
      "cell_type": "code",
      "metadata": {
        "id": "yJRl6ha27v0O",
        "colab": {
          "base_uri": "https://localhost:8080/"
        },
        "outputId": "41d1eb17-bde8-488b-e586-92721a625567"
      },
      "source": [
        "#Assert the shapes are correct for training set\n",
        "print(x_train.shape)\n",
        "\n",
        "print(y_train.shape)"
      ],
      "execution_count": 4,
      "outputs": [
        {
          "output_type": "stream",
          "name": "stdout",
          "text": [
            "(60000, 28, 28, 1)\n",
            "(60000, 10)\n"
          ]
        }
      ]
    },
    {
      "cell_type": "code",
      "source": [
        "# pick a sample to plot, helps to assert proper distribution of noisy and pure images in the training set\n",
        "sample = 5 #Select from 0-60,000\n",
        "X_train__ = x_train.reshape(x_train.shape[0], 28, 28)\n",
        "image = X_train__[sample]# plot the sample\n",
        "fig = plt.figure\n",
        "plt.imshow(image, cmap = 'binary')\n",
        "plt.axis('off')\n",
        "plt.show()\n",
        "print()\n"
      ],
      "metadata": {
        "colab": {
          "base_uri": "https://localhost:8080/",
          "height": 266
        },
        "id": "wzZFDBtse5wp",
        "outputId": "877424d7-a811-47a8-a9de-7196416e5f5d"
      },
      "execution_count": 5,
      "outputs": [
        {
          "output_type": "display_data",
          "data": {
            "text/plain": [
              "<Figure size 432x288 with 1 Axes>"
            ],
            "image/png": "[encoded data removed]"
          },
          "metadata": {
            "needs_background": "light"
          }
        },
        {
          "output_type": "stream",
          "name": "stdout",
          "text": [
            "\n"
          ]
        }
      ]
    },
    {
      "cell_type": "code",
      "metadata": {
        "id": "Hz84JNc89-kG",
        "colab": {
          "base_uri": "https://localhost:8080/",
          "height": 325
        },
        "outputId": "0f9142bf-c20d-43ff-bc4c-bb50bd08e4fb"
      },
      "source": [
        "###Data Visualization###\n",
        "X_train__ = x_train.reshape(x_train.shape[0], 28, 28)\n",
        "\n",
        "\n",
        "fig, axis = plt.subplots(1, 4, figsize=(20, 10))\n",
        "for i, ax in enumerate(axis.flat):\n",
        "    ax.imshow(X_train__[i], cmap='binary')\n",
        "    digit = y_train[i].argmax()\n",
        "    ax.set(title = f\"Real Number is {digit}\");\n",
        "#plt.savefig('1minst.png', dpi = 700)\n",
        "print(X_train__.shape)"
      ],
      "execution_count": 6,
      "outputs": [
        {
          "output_type": "stream",
          "name": "stdout",
          "text": [
            "(60000, 28, 28)\n"
          ]
        },
        {
          "output_type": "display_data",
          "data": {
            "text/plain": [
              "<Figure size 1440x720 with 4 Axes>"
            ],
            "image/png": "[encoded data removed]"
          },
          "metadata": {
            "needs_background": "light"
          }
        }
      ]
    },
    {
      "cell_type": "code",
      "metadata": {
        "id": "knMyBUvLc0kw"
      },
      "source": [
        "#Normalization#\n",
        "mean = np.mean(x_train)\n",
        "std = np.std(x_train)\n",
        "\n",
        "def standardize(x):\n",
        "    return (x-mean)/std\n",
        "\n",
        "epochs = 20\n",
        "batch_size = 64"
      ],
      "execution_count": 7,
      "outputs": []
    },
    {
      "cell_type": "code",
      "metadata": {
        "id": "zT0fpGegoM9p"
      },
      "source": [
        "#Building custom CNN Model.\n",
        "from keras.layers import Dropout\n",
        "\n",
        "\n",
        "model = Sequential()\n",
        "model.add(Conv2D(32, (3, 3), activation='relu', kernel_initializer='he_uniform', padding='same', input_shape=(28, 28, 1)))\n",
        "model.add(Conv2D(32, (3, 3), activation='relu', kernel_initializer='he_uniform', padding='same'))\n",
        "model.add(MaxPooling2D((2, 2)))\n",
        "#model.add(Dropout(0.2))\n",
        "model.add(Conv2D(64, (3, 3), activation='relu', kernel_initializer='he_uniform', padding='same'))\n",
        "model.add(Conv2D(64, (3, 3), activation='relu', kernel_initializer='he_uniform', padding='same'))\n",
        "model.add(MaxPooling2D((2, 2)))\n",
        "#model.add(Dropout(0.2))\n",
        "model.add(Conv2D(128, (3, 3), activation='relu', kernel_initializer='he_uniform', padding='same'))\n",
        "model.add(Conv2D(128, (3, 3), activation='relu', kernel_initializer='he_uniform', padding='same'))\n",
        "model.add(MaxPooling2D((2, 2)))\n",
        "#model.add(Dropout(0.2))\n",
        "model.add(Flatten())\n",
        "model.add(Dense(128, activation='relu', kernel_initializer='he_uniform'))\n",
        "#model.add(Dropout(0.2))\n",
        "model.add(Dense(10, activation='softmax'))"
      ],
      "execution_count": 8,
      "outputs": []
    },
    {
      "cell_type": "code",
      "source": [
        "#Visualize the Model\n",
        "import visualkeras\n",
        "visualkeras.layered_view(model).show()\n",
        "visualkeras.layered_view(model, legend = True, to_file='output.png') # write to disk\n",
        "visualkeras.layered_view(model, legend = True, to_file='output.png').show()\n",
        "visualkeras.layered_view(model, legend=True)"
      ],
      "metadata": {
        "id": "mTz45wvqLCCh",
        "colab": {
          "base_uri": "https://localhost:8080/",
          "height": 203
        },
        "outputId": "a318e030-0d86-408e-8be2-1726f8e2e430"
      },
      "execution_count": 9,
      "outputs": [
        {
          "output_type": "execute_result",
          "data": {
            "text/plain": [
              "<PIL.Image.Image image mode=RGBA size=488x186 at 0x7F96D0156DD0>"
            ],
            "image/png": "[encoded data removed]"
          },
          "metadata": {},
          "execution_count": 9
        }
      ]
    },
    {
      "cell_type": "code",
      "metadata": {
        "id": "FBLtCX7tjXJ9"
      },
      "source": [
        "#Compile the model with selected optimizer and loss function\n",
        "model.compile(optimizer='adam', loss = 'categorical_crossentropy', metrics = ['accuracy'])"
      ],
      "execution_count": null,
      "outputs": []
    },
    {
      "cell_type": "code",
      "metadata": {
        "colab": {
          "base_uri": "https://localhost:8080/"
        },
        "id": "apw4r04PdJFv",
        "outputId": "27ed7b2b-88c0-438e-fa00-ed9960b5acfe"
      },
      "source": [
        "#Train the model\n",
        "history = model.fit(x_train,y_train, batch_size=batch_size,epochs=epochs, validation_data = (x_test, y_test) , shuffle = True)"
      ],
      "execution_count": null,
      "outputs": [
        {
          "output_type": "stream",
          "name": "stdout",
          "text": [
            "Epoch 1/20\n",
            "938/938 [==============================] - 17s 6ms/step - loss: 0.1280 - accuracy: 0.9610 - val_loss: 0.0479 - val_accuracy: 0.9847\n",
            "Epoch 2/20\n",
            "938/938 [==============================] - 5s 6ms/step - loss: 0.0386 - accuracy: 0.9883 - val_loss: 0.0362 - val_accuracy: 0.9881\n",
            "Epoch 3/20\n",
            "938/938 [==============================] - 5s 6ms/step - loss: 0.0278 - accuracy: 0.9915 - val_loss: 0.0322 - val_accuracy: 0.9888\n",
            "Epoch 4/20\n",
            "938/938 [==============================] - 5s 6ms/step - loss: 0.0234 - accuracy: 0.9927 - val_loss: 0.0334 - val_accuracy: 0.9897\n",
            "Epoch 5/20\n",
            "938/938 [==============================] - 5s 6ms/step - loss: 0.0178 - accuracy: 0.9944 - val_loss: 0.0231 - val_accuracy: 0.9931\n",
            "Epoch 6/20\n",
            "938/938 [==============================] - 6s 6ms/step - loss: 0.0161 - accuracy: 0.9951 - val_loss: 0.0284 - val_accuracy: 0.9918\n",
            "Epoch 7/20\n",
            "938/938 [==============================] - 5s 6ms/step - loss: 0.0140 - accuracy: 0.9958 - val_loss: 0.0535 - val_accuracy: 0.9845\n",
            "Epoch 8/20\n",
            "938/938 [==============================] - 5s 6ms/step - loss: 0.0124 - accuracy: 0.9958 - val_loss: 0.0245 - val_accuracy: 0.9932\n",
            "Epoch 9/20\n",
            "938/938 [==============================] - 6s 7ms/step - loss: 0.0109 - accuracy: 0.9966 - val_loss: 0.0328 - val_accuracy: 0.9918\n",
            "Epoch 10/20\n",
            "938/938 [==============================] - 6s 6ms/step - loss: 0.0114 - accuracy: 0.9966 - val_loss: 0.0365 - val_accuracy: 0.9904\n",
            "Epoch 11/20\n",
            "938/938 [==============================] - 6s 6ms/step - loss: 0.0091 - accuracy: 0.9972 - val_loss: 0.0438 - val_accuracy: 0.9904\n",
            "Epoch 12/20\n",
            "938/938 [==============================] - 6s 6ms/step - loss: 0.0090 - accuracy: 0.9973 - val_loss: 0.0335 - val_accuracy: 0.9920\n",
            "Epoch 13/20\n",
            "938/938 [==============================] - 6s 6ms/step - loss: 0.0091 - accuracy: 0.9971 - val_loss: 0.0331 - val_accuracy: 0.9925\n",
            "Epoch 14/20\n",
            "938/938 [==============================] - 6s 6ms/step - loss: 0.0086 - accuracy: 0.9974 - val_loss: 0.0369 - val_accuracy: 0.9934\n",
            "Epoch 15/20\n",
            "938/938 [==============================] - 6s 6ms/step - loss: 0.0075 - accuracy: 0.9978 - val_loss: 0.0322 - val_accuracy: 0.9938\n",
            "Epoch 16/20\n",
            "938/938 [==============================] - 5s 6ms/step - loss: 0.0070 - accuracy: 0.9979 - val_loss: 0.0386 - val_accuracy: 0.9934\n",
            "Epoch 17/20\n",
            "938/938 [==============================] - 5s 6ms/step - loss: 0.0076 - accuracy: 0.9977 - val_loss: 0.0298 - val_accuracy: 0.9930\n",
            "Epoch 18/20\n",
            "938/938 [==============================] - 5s 6ms/step - loss: 0.0067 - accuracy: 0.9980 - val_loss: 0.0302 - val_accuracy: 0.9934\n",
            "Epoch 19/20\n",
            "938/938 [==============================] - 5s 6ms/step - loss: 0.0052 - accuracy: 0.9984 - val_loss: 0.0407 - val_accuracy: 0.9927\n",
            "Epoch 20/20\n",
            "938/938 [==============================] - 5s 6ms/step - loss: 0.0076 - accuracy: 0.9979 - val_loss: 0.0377 - val_accuracy: 0.9924\n"
          ]
        }
      ]
    },
    {
      "cell_type": "code",
      "source": [
        "#Access layers of the model [i]\n",
        "selected_layer = -1 #Choose from available layers to see the weights\n",
        "model.layers[selected_layer].get_weights()"
      ],
      "metadata": {
        "id": "eQ0GlceZ-qMD",
        "colab": {
          "base_uri": "https://localhost:8080/"
        },
        "outputId": "f3f98c7f-d126-4654-f6a1-e7cb8fdbc0d8"
      },
      "execution_count": null,
      "outputs": [
        {
          "output_type": "execute_result",
          "data": {
            "text/plain": [
              "[array([[ 0.15205209, -0.03084297, -0.05908434, ..., -0.1280095 ,\n",
              "         -0.15673025,  0.07258438],\n",
              "        [-0.16033936,  0.08083486,  0.05094604, ..., -0.17138287,\n",
              "          0.06265454,  0.06983948],\n",
              "        [-0.10401153, -0.1699031 ,  0.04363297, ..., -0.173504  ,\n",
              "         -0.1537458 ,  0.13445295],\n",
              "        ...,\n",
              "        [ 0.11458135,  0.07273565,  0.10590799, ...,  0.11744317,\n",
              "         -0.00525966, -0.11588886],\n",
              "        [ 0.11561123, -0.14513768, -0.1654958 , ..., -0.00898561,\n",
              "         -0.327797  , -0.02773849],\n",
              "        [ 0.11350808,  0.10450242, -0.27394512, ..., -0.07849418,\n",
              "         -0.05750968, -0.01737601]], dtype=float32),\n",
              " array([ 0.01321068,  0.21592629, -0.08238573, -0.07916712,  0.00333368,\n",
              "        -0.01273036, -0.02499523,  0.00642261, -0.00165277, -0.0459755 ],\n",
              "       dtype=float32)]"
            ]
          },
          "metadata": {},
          "execution_count": 13
        }
      ]
    },
    {
      "cell_type": "code",
      "source": [
        "#Save the model for retraining \n",
        "model.save('NP_trained.h5')\n"
      ],
      "metadata": {
        "id": "aFO8BFCF9pzW"
      },
      "execution_count": null,
      "outputs": []
    },
    {
      "cell_type": "code",
      "metadata": {
        "id": "t1HkGm8fulT_"
      },
      "source": [
        "#Obtain the average of the accuracy in validation\n",
        "np.mean(history.history['val_accuracy'])"
      ],
      "execution_count": null,
      "outputs": []
    },
    {
      "cell_type": "code",
      "metadata": {
        "id": "gZ1qB-Q5jQTo"
      },
      "source": [
        "# Generate generalization metrics\n",
        "score = model.evaluate(x_test, y_test, verbose=0) \n",
        "print(f'Test loss: {score[0]} / Test accuracy: {score[1]}')\n",
        "\n",
        "# Visualize history\n",
        "# Plot history: Loss\n",
        "plt.plot(history.history['val_loss'])\n",
        "plt.title('Validation loss history')\n",
        "plt.ylabel('Loss value')\n",
        "plt.xlabel('No. epoch')\n",
        "plt.show()\n",
        "\n",
        "# Plot history: Accuracy\n",
        "plt.plot(history.history['val_accuracy'])\n",
        "plt.title('Validation accuracy history')\n",
        "plt.ylabel('Accuracy value (%)')\n",
        "plt.xlabel('No. epoch')\n",
        "plt.show()"
      ],
      "execution_count": null,
      "outputs": []
    },
    {
      "cell_type": "code",
      "metadata": {
        "id": "HoG_MM8ZdjoD"
      },
      "source": [
        "from keras.utils.vis_utils import plot_model\n",
        "plot_model(model, to_file='model_plot.png', show_shapes=True, show_layer_names=True)\n",
        "\n",
        "# Plot the loss and accuracy curves for training and validation \n",
        "fig, ax = plt.subplots(2,1, figsize=(18, 10))\n",
        "ax[0].plot(history.history['loss'], color='b', label=\"Training loss\")\n",
        "ax[0].plot(history.history['val_loss'], color='r', label=\"validation loss\",axes =ax[0])\n",
        "legend = ax[0].legend(loc='best', shadow=True)\n",
        "\n",
        "ax[1].plot(history.history['accuracy'], color='b', label=\"Training accuracy\")\n",
        "ax[1].plot(history.history['val_accuracy'], color='r',label=\"Validation accuracy\")\n",
        "legend = ax[1].legend(loc='best', shadow=True)\n",
        "\n",
        "\n",
        "fig = plt.figure(figsize=(10, 10)) # Set Figure\n",
        "\n",
        "y_pred = model.predict(x_test_noisy) # Predict encoded label as 2 => [0, 0, 1, 0, 0, 0, 0, 0, 0, 0]\n",
        "\n",
        "Y_pred = np.argmax(y_pred, 1) # Decode Predicted labels\n",
        "Y_test = np.argmax(y_test, 1) # Decode labels\n",
        "\n",
        "mat = confusion_matrix(Y_test, Y_pred) # Confusion matrix"
      ],
      "execution_count": null,
      "outputs": []
    },
    {
      "cell_type": "code",
      "metadata": {
        "id": "ZvQLJMielYH6"
      },
      "source": [
        "# Plot Confusion matrix\n",
        "sns.heatmap(mat.T, square=True, annot=True, cbar=False, cmap=plt.cm.Blues)\n",
        "plt.xlabel('Predicted Values')\n",
        "plt.ylabel('True Values');\n",
        "plt.show();\n",
        "\n",
        "y_pred = model.predict(x_test_noisy)\n",
        "X_test__ = x_test_noisy.reshape(x_test_noisy.shape[0], 28, 28)\n",
        "\n",
        "fig, axis = plt.subplots(4, 4, figsize=(12, 14))\n",
        "for i, ax in enumerate(axis.flat):\n",
        "    ax.imshow(X_test__[i], cmap='binary')\n",
        "    ax.set(title = f\"Real Number is {y_test[i].argmax()}\\nPredict Number is {y_pred[i].argmax()}\");"
      ],
      "execution_count": null,
      "outputs": []
    }
  ]
}